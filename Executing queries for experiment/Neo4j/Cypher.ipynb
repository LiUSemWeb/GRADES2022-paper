{
 "cells": [
  {
   "cell_type": "code",
   "execution_count": 1,
   "id": "8a63d71b-db7f-4c18-bd5b-536ef1c62952",
   "metadata": {},
   "outputs": [],
   "source": [
    "from neo4j import GraphDatabase\n",
    "from datetime import  datetime\n",
    "import numpy as np\n",
    "import pandas as pd"
   ]
  },
  {
   "cell_type": "code",
   "execution_count": 2,
   "id": "8d5d0852-3c61-4f3f-8004-4cf084c9d8dc",
   "metadata": {},
   "outputs": [],
   "source": [
    "uri= \"neo4j://localhost:7687\"\n",
    "driver = GraphDatabase.driver(uri, auth=( \"neo4j\", \"1234\"))\n",
    "session = driver.session()"
   ]
  },
  {
   "cell_type": "code",
   "execution_count": 3,
   "id": "52765530-7dcc-4aef-9a5c-bd121b139567",
   "metadata": {},
   "outputs": [],
   "source": [
    "Time_Dictionary=dict()\n",
    "average_dict=dict()\n",
    "stdv_dic=dict()"
   ]
  },
  {
   "cell_type": "markdown",
   "id": "445f529a-8bfe-42d4-8177-a8e3ae757482",
   "metadata": {},
   "source": [
    "# FUNCTION"
   ]
  },
  {
   "cell_type": "code",
   "execution_count": 4,
   "id": "fc11c3e2-ceb9-4f81-a2db-23f95df55371",
   "metadata": {
    "tags": []
   },
   "outputs": [],
   "source": [
    "def calculate_time(query,variable_name):\n",
    "    start_time = datetime.now()\n",
    "    session.run(query)\n",
    "    end_time = datetime.now()\n",
    "    time=(round((end_time- start_time ).total_seconds()*1000))\n",
    "    add_to_list(variable_name,time)   \n",
    "\n",
    "def add_to_list(variable_name,time):\n",
    "    if variable_name in Time_Dictionary:\n",
    "        Time_Dictionary[variable_name].append(time)\n",
    "    else:\n",
    "        Time_Dictionary.update({variable_name:[]})\n",
    "        Time_Dictionary[variable_name].append(time) \n",
    "        \n",
    "def change_name_index(value):\n",
    "    value=value+1\n",
    "    result= 'round '+ str(value)\n",
    "    return result\n",
    "    \n",
    "def create_dataframe(dictionary):\n",
    "    for key in dictionary:\n",
    "        average_dict.update({key:[]})\n",
    "        average_dict[key].append(sum(dictionary[key])/len(dictionary[key]))\n",
    "    for key in dictionary:\n",
    "        stdv_dic.update({key:[]})\n",
    "        stdv_dic[key].append(np.std(dictionary[key]))\n",
    "    result = pd.DataFrame.from_dict(dictionary)\n",
    "    for index, row in result.iterrows():\n",
    "        result.rename(index={index:change_name_index(index)},inplace=True)\n",
    "    average=pd.DataFrame.from_dict(average_dict)\n",
    "    average.index=['Average']\n",
    "    stdv=pd.DataFrame.from_dict(stdv_dic)\n",
    "    stdv.index=['stdv']\n",
    "    frames=[result, average, stdv]\n",
    "    final_result=pd.concat(frames)\n",
    "    write_csv(final_result)\n",
    "    \n",
    "def write_csv(result):\n",
    "    result.to_csv('cypher.csv')  "
   ]
  },
  {
   "cell_type": "code",
   "execution_count": 6,
   "id": "834da667-bb14-41ec-9cf4-00c864ab1cfc",
   "metadata": {},
   "outputs": [
    {
     "name": "stdout",
     "output_type": "stream",
     "text": [
      "[{'count(n)': 559600}]\n"
     ]
    }
   ],
   "source": [
    "print(session.run(\"\"\"MATCH(n)\n",
    "RETURN count(n)\n",
    "\"\"\").data())"
   ]
  },
  {
   "cell_type": "code",
   "execution_count": 5,
   "id": "f5f6421c-5b39-4d95-b2d3-10c9146bebe5",
   "metadata": {},
   "outputs": [],
   "source": [
    "Start_Proces=datetime.now()"
   ]
  },
  {
   "cell_type": "code",
   "execution_count": null,
   "id": "24275e75-e3f5-46b4-9565-fc0bb53a7577",
   "metadata": {},
   "outputs": [],
   "source": [
    "for i in range(10):\n",
    "    print('round '+ str(i+1)+ ' started')\n",
    "    query1 = \"\"\"MATCH (n1)  \n",
    "            WHERE n1.name='XU JIE'  \n",
    "            RETURN n1.node_id as id, head(labels(n1)) as lbl\n",
    "            \"\"\"\n",
    "    calculate_time(query1,\"query1\")\n",
    "\n",
    "    query2=\"\"\"MATCH(n) WHERE n.name='EL PORTADOR' and n.countries<>'' \n",
    "         RETURN  HEAD(LABELS(n)) as lbl , n.countries as country \n",
    "            \"\"\"\n",
    "    calculate_time(query2,\"query2\")\n",
    "    \n",
    "    query3=\"\"\"MATCH (n)  \n",
    "            RETURN DISTINCT HEAD(LABELS(n)) as lbl \n",
    "    \"\"\"\n",
    "    calculate_time(query3,\"query3\")\n",
    "\n",
    "    query4=\"\"\"\n",
    "        MATCH (n)-[r1]->(n1)  \n",
    "        RETURN DISTINCT TYPE(r1) as lbl\n",
    "    \"\"\"\n",
    "    calculate_time(query4,\"query4\")\n",
    "    \n",
    "    query5=\"\"\"MATCH (n1)-[r1:intermediary_of]->(n2)  \n",
    "        WHERE n1.name='ORION HOUSE SERVICES (HK) LIMITED' \n",
    "        RETURN n2.name as name, HEAD(LABELS(n2)) as lbl \n",
    "        \"\"\"\n",
    "    calculate_time(query5,\"query5\")\n",
    "    \n",
    "    query6=\"\"\"MATCH (n1)-[r1:officer_of]->(n2) \n",
    "              WHERE n1.name='BEARER' \n",
    "              RETURN HEAD(LABELS(n1)) as lbl1, \n",
    "              n2.name as name, r1.link as link, HEAD(LABELS(n2)) as lbl2 \n",
    "                UNION ALL \n",
    "                MATCH(n1)-[r1:officer_of]->(n2) \n",
    "                              WHERE n1.name='The Bearer' \n",
    "                              RETURN HEAD(LABELS(n1)) as lbl1, \n",
    "                              n2.name as name, r1.link as link, HEAD(LABELS(n2)) as lbl2            \n",
    "            \"\"\"\n",
    "    calculate_time(query6,\"query6\")\n",
    "    \n",
    "    query7=\"\"\"MATCH (n1)-[r1]->(n2) WHERE r1.end_date='11-APR-2014' and n2.status='Active' and n1.name='THE BEARER' \n",
    "                RETURN HEAD(LABELS(n1)) as lbl1, r1.link as link, HEAD(LABELS(n2)) as lbl2, n2.name as entity_name \n",
    "                UNION ALL \n",
    "                MATCH (n1)-[r1]->(n2) \n",
    "                WHERE r1.end_date='29-DEC-2009' and n2.status='Defaulted' and n1.name='THE BEARER' \n",
    "                RETURN HEAD(LABELS(n1)) as lbl1, r1.link as link, HEAD(LABELS(n2)) as lbl2, n2.name as entity_name\n",
    "              \"\"\"\n",
    "    calculate_time(query7,\"query7\")  \n",
    "\n",
    "    query8=\"\"\"MATCH (n1)-[r1:registered_address]->(n3)  \n",
    "                RETURN HEAD(LABELS(n1)) as lbl1, n1.name as name, r1.link as link, n3.address as address \n",
    "              \"\"\"\n",
    "    calculate_time(query8,\"query8\")\n",
    "\n",
    "    query9=\"\"\"\n",
    "            MATCH(n1)-[r1:registered_address]->(n2), \n",
    "             (n1)-[r2:registered_address]->(n3) \n",
    "        RETURN HEAD(LABELS(n1)) as lbl, n1.name as name, r1.link as link1, n2.address as first_address, r2.link as link2, n3.address as second_address \n",
    "              \"\"\"\n",
    "    calculate_time(query9,\"query9\")\n",
    "    \n",
    "    query10=\"\"\"MATCH(n1:officer)-[r1:registered_address]->(n3)<-[r2:registered_address]-(n2:entity) \n",
    "                RETURN r1.link as link1, r2.link as link2, n3.address as address \n",
    "                \"\"\"\n",
    "    calculate_time(query10,\"query10\")\n",
    "\n",
    "    query11=\"\"\"MATCH(n1:intermediary)-[r1]->(n2:entity)-[r2]->(n3:address)<-[r3]-(n4:officer) \n",
    "            RETURN n1.name as name, r1.valid_until as valid, r1.sourceID as sourceID\n",
    "            \"\"\"\n",
    "    calculate_time(query11,\"query11\")\n",
    "\n",
    "    query12=\"\"\" MATCH (n1:officer)-[r1:officer_of]->(n2:officer)-[r2:registered_address]->(n3:address), (n2)-[r3:officer_of]->(n4:entity)<-[r4:intermediary_of]-(n5:intermediary)-[r5:intermediary_of]->(n6:entity)      \n",
    "            RETURN n1.name as officer_name, r1.link as link1, n2.name as officer2_name, r3.link as link2 , n4.name as entity_name, n5.name as intermediary_name, r4.valid_until as valid_until, n6.name as e_name               \n",
    "            \"\"\"\n",
    "    calculate_time(query12,\"query12\")\n",
    "    print('round '+ str(i+1)+ ' finished')\n",
    "    "
   ]
  },
  {
   "cell_type": "code",
   "execution_count": 10,
   "id": "052e3f48-cc36-4a36-915c-974119eb60ef",
   "metadata": {},
   "outputs": [],
   "source": [
    "End_Process=datetime.now()"
   ]
  },
  {
   "cell_type": "code",
   "execution_count": 11,
   "id": "651fad7d-659c-4d7e-ab04-139c48732eb5",
   "metadata": {},
   "outputs": [],
   "source": [
    "Total_Time_Process=End_Process-Start_Proces"
   ]
  },
  {
   "cell_type": "code",
   "execution_count": 13,
   "id": "96f9d9cb-6826-4751-9a8c-0edd307f4818",
   "metadata": {},
   "outputs": [],
   "source": [
    "create_dataframe(Time_Dictionary)"
   ]
  },
  {
   "cell_type": "code",
   "execution_count": 14,
   "id": "46374752-1dca-45d4-a207-9fd7b561f155",
   "metadata": {},
   "outputs": [
    {
     "name": "stdout",
     "output_type": "stream",
     "text": [
      "141480\n"
     ]
    }
   ],
   "source": [
    "print(round((Total_Time_Process ).total_seconds()*1000))"
   ]
  },
  {
   "cell_type": "code",
   "execution_count": null,
   "id": "327c73ca-5c76-4d0d-92d8-c76146a4bbc6",
   "metadata": {},
   "outputs": [],
   "source": []
  },
  {
   "cell_type": "code",
   "execution_count": null,
   "id": "2c382a5a-b158-4555-8310-8c6fea902f21",
   "metadata": {},
   "outputs": [],
   "source": []
  }
 ],
 "metadata": {
  "kernelspec": {
   "display_name": "Python 3 (ipykernel)",
   "language": "python",
   "name": "python3"
  },
  "language_info": {
   "codemirror_mode": {
    "name": "ipython",
    "version": 3
   },
   "file_extension": ".py",
   "mimetype": "text/x-python",
   "name": "python",
   "nbconvert_exporter": "python",
   "pygments_lexer": "ipython3",
   "version": "3.8.10"
  }
 },
 "nbformat": 4,
 "nbformat_minor": 5
}
