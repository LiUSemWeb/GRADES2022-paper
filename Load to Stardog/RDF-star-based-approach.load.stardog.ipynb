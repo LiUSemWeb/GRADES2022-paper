{
 "cells": [
  {
   "cell_type": "code",
   "execution_count": 1,
   "id": "480edbbb-ace7-4e09-979e-7eb7fe33524d",
   "metadata": {},
   "outputs": [],
   "source": [
    "import stardog\n",
    "from SPARQLWrapper import SPARQLWrapper, JSON, XML\n",
    "from pymantic import sparql\n",
    "from datetime import  datetime\n",
    "import numpy as np\n",
    "import pandas as pd"
   ]
  },
  {
   "cell_type": "code",
   "execution_count": 2,
   "id": "aee4d44e-f6ab-4702-918c-e5bc6c861ce8",
   "metadata": {},
   "outputs": [],
   "source": [
    "connection_details = {\n",
    "  'endpoint': 'http://localhost:5820',\n",
    "  'username': 'admin',\n",
    "  'password': 'admin'\n",
    "}"
   ]
  },
  {
   "cell_type": "code",
   "execution_count": 3,
   "id": "5a86fd90-a4c0-4bf4-814e-906e78378288",
   "metadata": {},
   "outputs": [],
   "source": [
    "database_name='RDF_star_based_approach'"
   ]
  },
  {
   "cell_type": "code",
   "execution_count": null,
   "id": "73a981ad-f17e-46fd-98b0-4690222194f3",
   "metadata": {},
   "outputs": [],
   "source": [
    "with stardog.Admin(**connection_details) as admin:\n",
    "    for db in admin.databases():\n",
    "        print(db.name)\n",
    "        if database_name in [db.name for db in admin.databases()]:\n",
    "            admin.database(database_name).drop()\n",
    "    db = admin.new_database(database_name, {'edge.properties': True})"
   ]
  },
  {
   "cell_type": "code",
   "execution_count": 7,
   "id": "346a7330-d523-442c-9de6-f06e29cbabe1",
   "metadata": {},
   "outputs": [],
   "source": [
    "conn=stardog.Connection(database_name,**connection_details)"
   ]
  },
  {
   "cell_type": "code",
   "execution_count": 8,
   "id": "1da7096b-cb85-4ed8-bba0-fe5a267a1126",
   "metadata": {},
   "outputs": [
    {
     "data": {
      "text/plain": [
       "'15bce373-7cd5-4df6-ba83-6efe81e0da14'"
      ]
     },
     "execution_count": 8,
     "metadata": {},
     "output_type": "execute_result"
    }
   ],
   "source": [
    "conn.begin()"
   ]
  },
  {
   "cell_type": "code",
   "execution_count": 9,
   "id": "97b6ea6d-a2e7-4669-9114-c3d0d92e7167",
   "metadata": {},
   "outputs": [],
   "source": [
    "conn.add(stardog.content.File('path/to/RDF_star_based_approach.ttl'))"
   ]
  },
  {
   "cell_type": "code",
   "execution_count": 10,
   "id": "dcc79915-6299-405a-8eab-9dcd3e24e336",
   "metadata": {},
   "outputs": [],
   "source": [
    "conn.commit()"
   ]
  },
  {
   "cell_type": "code",
   "execution_count": 11,
   "id": "9dfd7ed8-721a-4023-969a-31828df95b7f",
   "metadata": {},
   "outputs": [
    {
     "data": {
      "text/plain": [
       "stardog.connection.Connection"
      ]
     },
     "execution_count": 11,
     "metadata": {},
     "output_type": "execute_result"
    }
   ],
   "source": [
    "type(conn)"
   ]
  },
  {
   "cell_type": "code",
   "execution_count": 12,
   "id": "c9f4482e-5fef-42ec-b35e-0b16cc413750",
   "metadata": {},
   "outputs": [],
   "source": [
    "query1=\"\"\"\n",
    "    PREFIX rdfs: <http://www.w3.org/2000/01/rdf-schema#>\n",
    "    PREFIX ns1: <http://example.org/>\n",
    "    PREFIX rdf: <http://www.w3.org/1999/02/22-rdf-syntax-ns#>\n",
    "    SELECT (count(*) as ?c)\n",
    "    WHERE{  \n",
    "        ?n ?p ?o.\n",
    "    } \n",
    "\"\"\""
   ]
  },
  {
   "cell_type": "code",
   "execution_count": 13,
   "id": "74941b96-66d7-4e67-aa59-51396d835c4c",
   "metadata": {},
   "outputs": [
    {
     "name": "stdout",
     "output_type": "stream",
     "text": [
      "{'head': {'vars': ['c']}, 'results': {'bindings': [{'c': {'datatype': 'http://www.w3.org/2001/XMLSchema#integer', 'type': 'literal', 'value': '8261110'}}]}}\n"
     ]
    }
   ],
   "source": [
    "print(conn.select(query1, timeout=0))"
   ]
  },
  {
   "cell_type": "code",
   "execution_count": null,
   "id": "3f3d051f-4499-460d-adef-da9860622040",
   "metadata": {},
   "outputs": [],
   "source": []
  }
 ],
 "metadata": {
  "kernelspec": {
   "display_name": "Python 3 (ipykernel)",
   "language": "python",
   "name": "python3"
  },
  "language_info": {
   "codemirror_mode": {
    "name": "ipython",
    "version": 3
   },
   "file_extension": ".py",
   "mimetype": "text/x-python",
   "name": "python",
   "nbconvert_exporter": "python",
   "pygments_lexer": "ipython3",
   "version": "3.8.10"
  }
 },
 "nbformat": 4,
 "nbformat_minor": 5
}
