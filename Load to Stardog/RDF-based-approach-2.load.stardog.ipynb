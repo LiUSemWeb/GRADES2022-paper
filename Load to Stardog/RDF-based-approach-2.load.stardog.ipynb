{
 "cells": [
  {
   "cell_type": "code",
   "execution_count": 1,
   "id": "480edbbb-ace7-4e09-979e-7eb7fe33524d",
   "metadata": {},
   "outputs": [],
   "source": [
    "import stardog\n",
    "from SPARQLWrapper import SPARQLWrapper, JSON, XML\n",
    "from pymantic import sparql\n",
    "from datetime import  datetime\n",
    "import numpy as np\n",
    "import pandas as pd"
   ]
  },
  {
   "cell_type": "code",
   "execution_count": 2,
   "id": "aee4d44e-f6ab-4702-918c-e5bc6c861ce8",
   "metadata": {},
   "outputs": [],
   "source": [
    "connection_details = {\n",
    "  'endpoint': 'http://localhost:5820',\n",
    "  'username': 'admin',\n",
    "  'password': 'admin'\n",
    "}"
   ]
  },
  {
   "cell_type": "code",
   "execution_count": 3,
   "id": "5a86fd90-a4c0-4bf4-814e-906e78378288",
   "metadata": {},
   "outputs": [],
   "source": [
    "database_name='RDF_based_approach_2'"
   ]
  },
  {
   "cell_type": "code",
   "execution_count": 4,
   "id": "73a981ad-f17e-46fd-98b0-4690222194f3",
   "metadata": {},
   "outputs": [],
   "source": [
    "with stardog.Admin(**connection_details) as admin:\n",
    "    for db in admin.databases():\n",
    "        print(db.name)\n",
    "        if database_name in [db.name for db in admin.databases()]:\n",
    "            admin.database(database_name).drop()\n",
    "    db = admin.new_database(database_name)"
   ]
  },
  {
   "cell_type": "code",
   "execution_count": 5,
   "id": "346a7330-d523-442c-9de6-f06e29cbabe1",
   "metadata": {},
   "outputs": [],
   "source": [
    "conn=stardog.Connection(database_name,**connection_details)"
   ]
  },
  {
   "cell_type": "code",
   "execution_count": 6,
   "id": "1da7096b-cb85-4ed8-bba0-fe5a267a1126",
   "metadata": {},
   "outputs": [
    {
     "data": {
      "text/plain": [
       "'8fd90233-85e1-40a1-a8d4-2a04078d5528'"
      ]
     },
     "execution_count": 6,
     "metadata": {},
     "output_type": "execute_result"
    }
   ],
   "source": [
    "conn.begin()"
   ]
  },
  {
   "cell_type": "code",
   "execution_count": 7,
   "id": "97b6ea6d-a2e7-4669-9114-c3d0d92e7167",
   "metadata": {},
   "outputs": [],
   "source": [
    "conn.add(stardog.content.File('path/to/RDF-based-approach-2.ttl'))"
   ]
  },
  {
   "cell_type": "code",
   "execution_count": 8,
   "id": "dcc79915-6299-405a-8eab-9dcd3e24e336",
   "metadata": {},
   "outputs": [],
   "source": [
    "conn.commit()"
   ]
  },
  {
   "cell_type": "code",
   "execution_count": 9,
   "id": "9dfd7ed8-721a-4023-969a-31828df95b7f",
   "metadata": {},
   "outputs": [
    {
     "data": {
      "text/plain": [
       "stardog.connection.Connection"
      ]
     },
     "execution_count": 9,
     "metadata": {},
     "output_type": "execute_result"
    }
   ],
   "source": [
    "type(conn)"
   ]
  },
  {
   "cell_type": "code",
   "execution_count": 10,
   "id": "c9f4482e-5fef-42ec-b35e-0b16cc413750",
   "metadata": {},
   "outputs": [],
   "source": [
    " query1=\"\"\"\n",
    "        PREFIX rdfs: <http://www.w3.org/2000/01/rdf-schema#>\n",
    "        PREFIX ns1: <http://example.org/>\n",
    "        PREFIX rdf: <http://www.w3.org/1999/02/22-rdf-syntax-ns#>\n",
    "        PREFIX node: <http://nodeLabel.org/>\n",
    "        PREFIX edge: <http://edgeLabel.org/>\n",
    "        SELECT (count(?n) as ?c)\n",
    "        WHERE{ \n",
    "            ?n ?n1 ?n2}\n",
    "        \"\"\""
   ]
  },
  {
   "cell_type": "code",
   "execution_count": 11,
   "id": "74941b96-66d7-4e67-aa59-51396d835c4c",
   "metadata": {},
   "outputs": [],
   "source": [
    "results = conn.select(query1)"
   ]
  },
  {
   "cell_type": "code",
   "execution_count": 12,
   "id": "85fcafd8-99f1-42ad-90fc-0b2d62a3cf5b",
   "metadata": {},
   "outputs": [
    {
     "name": "stdout",
     "output_type": "stream",
     "text": [
      "{'head': {'vars': ['c']}, 'results': {'bindings': [{'c': {'datatype': 'http://www.w3.org/2001/XMLSchema#integer', 'type': 'literal', 'value': '9678501'}}]}}\n"
     ]
    }
   ],
   "source": [
    "print(results)"
   ]
  },
  {
   "cell_type": "code",
   "execution_count": null,
   "id": "0f9d1e4f-fd84-416c-93c3-0f9dda4a08fb",
   "metadata": {},
   "outputs": [],
   "source": []
  }
 ],
 "metadata": {
  "kernelspec": {
   "display_name": "Python 3 (ipykernel)",
   "language": "python",
   "name": "python3"
  },
  "language_info": {
   "codemirror_mode": {
    "name": "ipython",
    "version": 3
   },
   "file_extension": ".py",
   "mimetype": "text/x-python",
   "name": "python",
   "nbconvert_exporter": "python",
   "pygments_lexer": "ipython3",
   "version": "3.8.10"
  }
 },
 "nbformat": 4,
 "nbformat_minor": 5
}
